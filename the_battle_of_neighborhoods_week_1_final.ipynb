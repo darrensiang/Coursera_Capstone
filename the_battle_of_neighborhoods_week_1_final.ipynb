{
 "cells": [
  {
   "cell_type": "code",
   "execution_count": null,
   "metadata": {},
   "outputs": [],
   "source": []
  },
  {
   "cell_type": "markdown",
   "metadata": {},
   "source": [
    "# The Battle of Neighborhoods (Week 1)\n",
    "\n",
    "## Introduction\n",
    "\n",
    "New York is the most populous city in the United States. According to The Global Financial Centres Index (GFCI), it is also the top financial center in the world. It is widely known by the nickname \"Empire State\", commonly believed to refer to the state's wealth and resources. Every year, many people come to this \"concrete jungle where dreams are made of\" to look for opportunity. Whether you want to set up a new business in this big city or live here, you most probably want to settle down at a neighborhood that is suitable for you with low crime rate. We can create a map to show reported crime in New York, and label neighborhoods with different colours based on clustering method on the same map for people to decide where they want to live or set up their business.\n",
    "\n",
    "\n",
    "## Data\n",
    "\n",
    "To tackle this problem, I need the following data:\n",
    "\n",
    "__New York crime data__\n",
    "<br>This data is, fortunately, available on NYC Open data, free public data published by New York City agencies and other partners. I am going to use \"NYPD Complaint Data Current (Year To Date)\": https://data.cityofnewyork.us/Public-Safety/NYPD-Complaint-Data-Current-Year-To-Date-/5uac-w243/data\n",
    "This dataset includes all valid felony, misdemeanor, and violation crimes reported to the New York City Police Department (NYPD) in the first quarter of 2020. According to the description of the data on the website, both borough and precinct in which the incident occurred are available. New York City is composed of five boroughs: The Bronx, Brooklyn, Manhattan, Queens, and Staten Island. Precinct, on the other hand, is another geographic definition utilized by police department. Police units based in these precincts patrol and respond to emergencies.\n",
    "\n",
    "__New York map data__\n",
    "<br>Although both borough and precinct are available in the New York crime data, I decided to look for precinct GeoJSON instead of borough map. That is because the geographic area of a precinct is much smaller than a borough, which will allow us to visualize which part of the borough actually has less or more crime than other parts, instead of taking the entire borough as a whole unit. The GeoJSON file of New York Police Precinct can be found here: https://data.cityofnewyork.us/Public-Safety/Police-Precincts/78dh-3ptz\n",
    "\n",
    "__New York neighborhood and coordinates__\n",
    "<br>During the course, we learnt that New York has a total of 306 neighborhoods, and coordinates of all neighborhoods can be found here: https://geo.nyu.edu/catalog/nyu_2451_34572\n",
    "\n",
    "__Nearby most common places for clustering of neighborhoods__\n",
    "<br>During the course, we learnt that we can utilize Forsquare API to get the most common venues of given neighborhoods' coordinates."
   ]
  },
  {
   "cell_type": "code",
   "execution_count": null,
   "metadata": {},
   "outputs": [],
   "source": []
  }
 ],
 "metadata": {
  "kernelspec": {
   "display_name": "Python 3",
   "language": "python",
   "name": "python3"
  },
  "language_info": {
   "codemirror_mode": {
    "name": "ipython",
    "version": 3
   },
   "file_extension": ".py",
   "mimetype": "text/x-python",
   "name": "python",
   "nbconvert_exporter": "python",
   "pygments_lexer": "ipython3",
   "version": "3.7.3"
  }
 },
 "nbformat": 4,
 "nbformat_minor": 2
}
